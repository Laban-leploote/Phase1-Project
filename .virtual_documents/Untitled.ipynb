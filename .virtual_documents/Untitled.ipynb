


import numpy as np 
import pandas as pd
import matplotlib.pyplot as plt
%matplotlib inline


# Load the dataset 
df = pd.read_csv('C:/users/user/Phase1-Project/data/Aviation_Data.csv')
df


df.shape


df.isna()


df.isna().value_counts


df.columns


df.dtypes


df.count()


df.duplicated()


df.duplicated().value_counts()


df=df.drop_duplicates()


df


df.count()


df.isnull().sum()


df.Series.str.strip()


# Strip whitespace from all string (object) columns in the DataFrame
for col in df.select_dtypes(include=['object']).columns:
    df[col] = df[col].str.strip()
    
# Note: This only affects string/object columns
# Numeric columns, dates, etc. will be unaffected


def strip_whitespace(dataframe):
    """
    Strip leading and trailing whitespace from all string/object columns in a DataFrame.
    
    Parameters:
    -----------
    dataframe : pandas.DataFrame
        The DataFrame to process
        
    Returns:
    --------
    pandas.DataFrame
        The DataFrame with whitespace stripped from string columns
    """
    # Create a copy to avoid modifying the original DataFrame
    df_cleaned = dataframe.copy()
    
    # Get only the object/string columns
    string_columns = df_cleaned.select_dtypes(include=['object']).columns
    
    # Apply strip to each string column using .loc to avoid SettingWithCopyWarning
    for col in string_columns:
        df_cleaned.loc[:, col] = df_cleaned[col].str.strip()
        
    return df_cleaned

# Example usage:
# cleaned_df = strip_whitespace(df)


df


df['Injury.Severity'].isna().sum()



